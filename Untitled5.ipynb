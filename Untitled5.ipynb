{
  "nbformat": 4,
  "nbformat_minor": 0,
  "metadata": {
    "colab": {
      "provenance": [],
      "authorship_tag": "ABX9TyN7nsZ67byL1CXdNFQW8+hR",
      "include_colab_link": true
    },
    "kernelspec": {
      "name": "python3",
      "display_name": "Python 3"
    },
    "language_info": {
      "name": "python"
    }
  },
  "cells": [
    {
      "cell_type": "markdown",
      "metadata": {
        "id": "view-in-github",
        "colab_type": "text"
      },
      "source": [
        "<a href=\"https://colab.research.google.com/github/Adilia2503/adi-repo/blob/main/Untitled5.ipynb\" target=\"_parent\"><img src=\"https://colab.research.google.com/assets/colab-badge.svg\" alt=\"Open In Colab\"/></a>"
      ]
    },
    {
      "cell_type": "code",
      "execution_count": null,
      "metadata": {
        "id": "24QEEZZaBq7D"
      },
      "outputs": [],
      "source": [
        "https://github.com/Adilia2503/adi-repo Ссылка на ГХ."
      ]
    },
    {
      "cell_type": "markdown",
      "source": [
        "Продукт для университетов и школ с простым в использовании поисковой системой с помощью википедии. Работает с телеграмм-ботом, который предоставляет информацию. \n",
        "Эта документация создана для объяснения частей кода, особенно его блоков и разделения процессов.\n",
        "\n",
        "Далее в коде я прописала все нюансы и объяснения с помощью #.\n",
        "С помощью pip скачала все нужные библиотеки.\n",
        "Далее импортировала все что понадобиться для работы.\n",
        "Создала бот, присвоила ему русский язык с помощью команды set_lang. \n",
        " bot.send_message данная строка заставляет бота реагировать на \\start и выдавать нужную фразую.\n",
        " Делаем максимльное количество символов с помощью ny.content.Что бы не было сликом много теста и что бы выдавалось базовые значения. \n",
        " Вопросы:\n",
        " При задании, слово для википед.должно быть только одно, при многих словах подрят бот не распознает и выдаст не то что надо.\n",
        " Требования можно найти в файле \"Новый текстовый документ.txt\".\n",
        "\n"
      ],
      "metadata": {
        "id": "gGAp3-cbSO9x"
      }
    },
    {
      "cell_type": "code",
      "source": [
        "!pip install pyTelegramBotAPI"
      ],
      "metadata": {
        "colab": {
          "base_uri": "https://localhost:8080/"
        },
        "id": "pPEzCsrXPjdq",
        "outputId": "555c5261-3bf1-4fa4-f259-467a68fa0381"
      },
      "execution_count": 55,
      "outputs": [
        {
          "output_type": "stream",
          "name": "stdout",
          "text": [
            "Looking in indexes: https://pypi.org/simple, https://us-python.pkg.dev/colab-wheels/public/simple/\n",
            "Requirement already satisfied: pyTelegramBotAPI in /usr/local/lib/python3.7/dist-packages (4.7.1)\n",
            "Requirement already satisfied: requests in /usr/local/lib/python3.7/dist-packages (from pyTelegramBotAPI) (2.23.0)\n",
            "Requirement already satisfied: idna<3,>=2.5 in /usr/local/lib/python3.7/dist-packages (from requests->pyTelegramBotAPI) (2.10)\n",
            "Requirement already satisfied: certifi>=2017.4.17 in /usr/local/lib/python3.7/dist-packages (from requests->pyTelegramBotAPI) (2022.9.24)\n",
            "Requirement already satisfied: chardet<4,>=3.0.2 in /usr/local/lib/python3.7/dist-packages (from requests->pyTelegramBotAPI) (3.0.4)\n",
            "Requirement already satisfied: urllib3!=1.25.0,!=1.25.1,<1.26,>=1.21.1 in /usr/local/lib/python3.7/dist-packages (from requests->pyTelegramBotAPI) (1.24.3)\n"
          ]
        }
      ]
    },
    {
      "cell_type": "code",
      "source": [
        "import telebot\n",
        "token=\"5967367632:AAG4mOmeMiu0Q2nkBiXg-i2OIaPgAeRMS1M\""
      ],
      "metadata": {
        "id": "aNZpiVd6_D5K"
      },
      "execution_count": 75,
      "outputs": []
    },
    {
      "cell_type": "code",
      "source": [
        "import numpy as np"
      ],
      "metadata": {
        "id": "idH72uKs9KHl"
      },
      "execution_count": 76,
      "outputs": []
    },
    {
      "cell_type": "code",
      "source": [
        "import cv2"
      ],
      "metadata": {
        "id": "oIgWi6HJ9OPt"
      },
      "execution_count": 77,
      "outputs": []
    },
    {
      "cell_type": "code",
      "source": [
        "from google.colab.patches import cv2_imshow"
      ],
      "metadata": {
        "id": "VV3VhimR9UIN"
      },
      "execution_count": 78,
      "outputs": []
    },
    {
      "cell_type": "code",
      "source": [
        "import PIL"
      ],
      "metadata": {
        "id": "mbPndYb09bLM"
      },
      "execution_count": 79,
      "outputs": []
    },
    {
      "cell_type": "code",
      "source": [
        "import time"
      ],
      "metadata": {
        "id": "YzCofNye9dQG"
      },
      "execution_count": 80,
      "outputs": []
    },
    {
      "cell_type": "code",
      "source": [
        "pip install discord"
      ],
      "metadata": {
        "colab": {
          "base_uri": "https://localhost:8080/"
        },
        "id": "GsRrI0F39f4k",
        "outputId": "409a941f-ddef-448b-f720-3f9a67538285"
      },
      "execution_count": 81,
      "outputs": [
        {
          "output_type": "stream",
          "name": "stdout",
          "text": [
            "Looking in indexes: https://pypi.org/simple, https://us-python.pkg.dev/colab-wheels/public/simple/\n",
            "Requirement already satisfied: discord in /usr/local/lib/python3.7/dist-packages (1.7.3)\n",
            "Requirement already satisfied: discord.py>=1.7.3 in /usr/local/lib/python3.7/dist-packages (from discord) (1.7.3)\n",
            "Requirement already satisfied: aiohttp<3.8.0,>=3.6.0 in /usr/local/lib/python3.7/dist-packages (from discord.py>=1.7.3->discord) (3.7.4.post0)\n",
            "Requirement already satisfied: async-timeout<4.0,>=3.0 in /usr/local/lib/python3.7/dist-packages (from aiohttp<3.8.0,>=3.6.0->discord.py>=1.7.3->discord) (3.0.1)\n",
            "Requirement already satisfied: multidict<7.0,>=4.5 in /usr/local/lib/python3.7/dist-packages (from aiohttp<3.8.0,>=3.6.0->discord.py>=1.7.3->discord) (6.0.2)\n",
            "Requirement already satisfied: yarl<2.0,>=1.0 in /usr/local/lib/python3.7/dist-packages (from aiohttp<3.8.0,>=3.6.0->discord.py>=1.7.3->discord) (1.8.1)\n",
            "Requirement already satisfied: typing-extensions>=3.6.5 in /usr/local/lib/python3.7/dist-packages (from aiohttp<3.8.0,>=3.6.0->discord.py>=1.7.3->discord) (4.1.1)\n",
            "Requirement already satisfied: chardet<5.0,>=2.0 in /usr/local/lib/python3.7/dist-packages (from aiohttp<3.8.0,>=3.6.0->discord.py>=1.7.3->discord) (3.0.4)\n",
            "Requirement already satisfied: attrs>=17.3.0 in /usr/local/lib/python3.7/dist-packages (from aiohttp<3.8.0,>=3.6.0->discord.py>=1.7.3->discord) (22.1.0)\n",
            "Requirement already satisfied: idna>=2.0 in /usr/local/lib/python3.7/dist-packages (from yarl<2.0,>=1.0->aiohttp<3.8.0,>=3.6.0->discord.py>=1.7.3->discord) (2.10)\n"
          ]
        }
      ]
    },
    {
      "cell_type": "code",
      "source": [
        "import telebot"
      ],
      "metadata": {
        "id": "YC1zFYnS9WMW"
      },
      "execution_count": 82,
      "outputs": []
    },
    {
      "cell_type": "code",
      "source": [],
      "metadata": {
        "id": "ak02HHnpeZM1"
      },
      "execution_count": null,
      "outputs": []
    },
    {
      "cell_type": "code",
      "source": [
        "pip install wikipedia"
      ],
      "metadata": {
        "colab": {
          "base_uri": "https://localhost:8080/"
        },
        "id": "9TtYjRqYHDVx",
        "outputId": "1c3083c5-285b-47b7-9d5f-d4764777e119"
      },
      "execution_count": 83,
      "outputs": [
        {
          "output_type": "stream",
          "name": "stdout",
          "text": [
            "Looking in indexes: https://pypi.org/simple, https://us-python.pkg.dev/colab-wheels/public/simple/\n",
            "Requirement already satisfied: wikipedia in /usr/local/lib/python3.7/dist-packages (1.4.0)\n",
            "Requirement already satisfied: requests<3.0.0,>=2.0.0 in /usr/local/lib/python3.7/dist-packages (from wikipedia) (2.23.0)\n",
            "Requirement already satisfied: beautifulsoup4 in /usr/local/lib/python3.7/dist-packages (from wikipedia) (4.6.3)\n",
            "Requirement already satisfied: idna<3,>=2.5 in /usr/local/lib/python3.7/dist-packages (from requests<3.0.0,>=2.0.0->wikipedia) (2.10)\n",
            "Requirement already satisfied: urllib3!=1.25.0,!=1.25.1,<1.26,>=1.21.1 in /usr/local/lib/python3.7/dist-packages (from requests<3.0.0,>=2.0.0->wikipedia) (1.24.3)\n",
            "Requirement already satisfied: certifi>=2017.4.17 in /usr/local/lib/python3.7/dist-packages (from requests<3.0.0,>=2.0.0->wikipedia) (2022.9.24)\n",
            "Requirement already satisfied: chardet<4,>=3.0.2 in /usr/local/lib/python3.7/dist-packages (from requests<3.0.0,>=2.0.0->wikipedia) (3.0.4)\n"
          ]
        }
      ]
    },
    {
      "cell_type": "code",
      "source": [
        "import telebot, wikipedia, re"
      ],
      "metadata": {
        "id": "fjkYVS6oQGbf"
      },
      "execution_count": 84,
      "outputs": []
    },
    {
      "cell_type": "code",
      "source": [
        "bot = telebot.TeleBot('5967367632:AAG4mOmeMiu0Q2nkBiXg-i2OIaPgAeRMS1M')"
      ],
      "metadata": {
        "id": "YmJGwsHqIMyF"
      },
      "execution_count": 85,
      "outputs": []
    },
    {
      "cell_type": "code",
      "source": [
        "wikipedia.set_lang(\"ru\")"
      ],
      "metadata": {
        "id": "mgkZxHD_IPlN"
      },
      "execution_count": 88,
      "outputs": []
    },
    {
      "cell_type": "code",
      "source": [
        "@bot.message_handler(commands=[\"start\"])\n",
        "def start(m, res=False):\n",
        "    bot.send_message(m.chat.id, 'Отправьте мне любое слово, и я найду его значение на Wikipedia')"
      ],
      "metadata": {
        "id": "_i708YUwIend"
      },
      "execution_count": 89,
      "outputs": []
    },
    {
      "cell_type": "code",
      "source": [
        "@bot.message_handler(content_types=[\"text\"])\n",
        "def handle_text(message):\n",
        "    bot.send_message(message.chat.id, getwiki(message.text))"
      ],
      "metadata": {
        "id": "r-CXGhguIkVc"
      },
      "execution_count": 90,
      "outputs": []
    },
    {
      "cell_type": "code",
      "source": [
        "import telebot, wikipedia\n",
        "bot = telebot.TeleBot('5967367632:AAG4mOmeMiu0Q2nkBiXg-i2OIaPgAeRMS1M')\n",
        "wikipedia.set_lang(\"ru\") #установили русс.яз\n",
        "def getwiki(s):\n",
        "    try:\n",
        "        ny = wikipedia.page(s)\n",
        "        wikitext=ny.content[:1000] # Чистим текст статьи в Wikipedia и ограничиваем его тысячей символов\n",
        "        wikimas=wikitext.split('.')\n",
        "        wikimas = wikimas[:-1]\n",
        "        wikitext2 = ''\n",
        "        # Проходимся по строкам, где нет знаков «равно» (то есть все, кроме заголовков)\n",
        "        for x in wikimas:\n",
        "            if not('==' in x):\n",
        "                    # Если в строке осталось больше трех символов, добавляем ее к нашей переменной и возвращаем утерянные при разделении строк точки на место\n",
        "                if(len((x.strip()))>3):\n",
        "                   wikitext2=wikitext2+x+'.'\n",
        "            else:\n",
        "                break\n",
        "        # Теперь убираем разметку\n",
        "        wikitext2=re.sub('\\([^()]*\\)', '', wikitext2)\n",
        "        wikitext2=re.sub('\\([^()]*\\)', '', wikitext2)\n",
        "        wikitext2=re.sub('\\{[^\\{\\}]*\\}', '', wikitext2)\n",
        "        return wikitext2\n",
        "    # Обрабатываем исключение, которое мог вернуть модуль wikipedia при запросе\n",
        "    except Exception as e:\n",
        "        return 'В энциклопедии нет информации об этом'\n",
        "@bot.message_handler(commands=[\"start\"])\n",
        "def start(m, res=False):\n",
        "    bot.send_message(m.chat.id, 'Отправьте мне любое слово, и я найду его значение на Wikipedia')\n",
        "# Получение смс\n",
        "@bot.message_handler(content_types=[\"text\"])\n",
        "def handle_text(message):\n",
        "    bot.send_message(message.chat.id, getwiki(message.text))\n",
        "   \n"
      ],
      "metadata": {
        "id": "GpV8xPlqUsNa"
      },
      "execution_count": 93,
      "outputs": []
    },
    {
      "cell_type": "code",
      "source": [
        " bot.polling(none_stop=True, interval=0)"
      ],
      "metadata": {
        "colab": {
          "base_uri": "https://localhost:8080/"
        },
        "id": "d1Ewsv4hZiSY",
        "outputId": "90831802-6ef6-49c0-899c-7c1e520ae03b"
      },
      "execution_count": null,
      "outputs": [
        {
          "metadata": {
            "tags": null
          },
          "name": "stderr",
          "output_type": "stream",
          "text": [
            "/usr/local/lib/python3.7/dist-packages/wikipedia/wikipedia.py:389: UserWarning: No parser was explicitly specified, so I'm using the best available HTML parser for this system (\"lxml\"). This usually isn't a problem, but if you run this code on another system, or in a different virtual environment, it may use a different parser and behave differently.\n",
            "\n",
            "The code that caused this warning is on line 389 of the file /usr/local/lib/python3.7/dist-packages/wikipedia/wikipedia.py. To get rid of this warning, pass the additional argument 'features=\"lxml\"' to the BeautifulSoup constructor.\n",
            "\n",
            "  lis = BeautifulSoup(html).find_all('li')\n"
          ]
        }
      ]
    }
  ]
}